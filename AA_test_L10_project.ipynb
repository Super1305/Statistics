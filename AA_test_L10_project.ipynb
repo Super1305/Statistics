{
 "cells": [
  {
   "cell_type": "markdown",
   "id": "465a6b94",
   "metadata": {},
   "source": [
    "# Описание задания\n",
    "А/А-тестирование мобильного приложения. Необходимо посчитать результаты A/A-теста, проверяя метрику качества FPR (будем проверять на конверсии в покупку). Известно, что сплит-система сломана. Требуется проверить утверждение о поломке и найти ее причины, если сплит-система действительно сломана\n",
    "\n",
    "# Описание колонок:\n",
    "1. experimentVariant – вариант эксперимента\n",
    "\n",
    "2. version – версия приложения\n",
    "\n",
    "3. purchase – факт покупки\n",
    "\n",
    "# Задача\n",
    "1. Запустите A/A-тест.\n",
    "\n",
    "2. Посчитайте FPR на уровне альфа = 0.05 (ставьте подвыборки без возвращения объемом 1000). Вы увидите, что FPR > альфа! Нам нужно наоборот – чтобы было меньше.\n",
    "\n",
    "3. Найдите причины поломки сплит-системы, ориентируясь на результаты эксперимента (подсказка: найдите аномалию в версии приложения).\n",
    "\n",
    "4. Напишите выводы, которые можно сделать на основе анализа результатов A/A-теста.\n",
    " \n",
    "\n",
    "💡 Ответ: как найти причины поломки?\n",
    "\n",
    "Вам доступна версия мобильного приложения (МП) каждого пользователя. Эту полезную информацию можно использовать для исследования проблемы:\n",
    "\n",
    "1. Посчитайте конверсию (коэффициент покупок), группируя по варианту и версии МП. Возможно уже станет ясно где именно причины поломки\n",
    "\n",
    "2. Посчитайте pvalue для каждой версии МП\n",
    "\n",
    "3. Найдите версии, где pvalue < 0.05\n",
    "\n",
    "4. Исключите версию с pvalue < 0.05 из основного датафрейма\n",
    "\n",
    "5. Повторно запустите расчет FPR через A/A. Теперь FPR < альфа\n",
    "\n",
    "Вы нашли поломку"
   ]
  },
  {
   "cell_type": "code",
   "execution_count": 83,
   "id": "63e40489",
   "metadata": {},
   "outputs": [],
   "source": [
    "import numpy as np\n",
    "import pandas as pd\n",
    "from scipy import stats\n",
    "import matplotlib.pyplot as plt\n",
    "import seaborn as sns\n",
    "\n",
    "from tqdm.auto import tqdm"
   ]
  },
  {
   "cell_type": "code",
   "execution_count": 44,
   "id": "8f108424",
   "metadata": {},
   "outputs": [],
   "source": [
    "df= pd.read_csv('hw_aa.csv', sep=';')"
   ]
  },
  {
   "cell_type": "code",
   "execution_count": 45,
   "id": "22f5d3f0",
   "metadata": {},
   "outputs": [],
   "source": [
    "df.drop('Unnamed: 0', axis=1, inplace=True)"
   ]
  },
  {
   "cell_type": "code",
   "execution_count": 86,
   "id": "e761c607",
   "metadata": {},
   "outputs": [
    {
     "name": "stdout",
     "output_type": "stream",
     "text": [
      "<class 'pandas.core.frame.DataFrame'>\n",
      "RangeIndex: 127018 entries, 0 to 127017\n",
      "Data columns (total 4 columns):\n",
      " #   Column             Non-Null Count   Dtype \n",
      "---  ------             --------------   ----- \n",
      " 0   uid                127018 non-null  object\n",
      " 1   experimentVariant  127018 non-null  int64 \n",
      " 2   version            127018 non-null  object\n",
      " 3   purchase           127018 non-null  int64 \n",
      "dtypes: int64(2), object(2)\n",
      "memory usage: 3.9+ MB\n"
     ]
    }
   ],
   "source": [
    "df.info()"
   ]
  },
  {
   "cell_type": "code",
   "execution_count": 47,
   "id": "665390f4",
   "metadata": {},
   "outputs": [
    {
     "data": {
      "text/plain": [
       "127018"
      ]
     },
     "execution_count": 47,
     "metadata": {},
     "output_type": "execute_result"
    }
   ],
   "source": [
    "df.uid.nunique()"
   ]
  },
  {
   "cell_type": "code",
   "execution_count": 104,
   "id": "dbb43262",
   "metadata": {},
   "outputs": [],
   "source": [
    "df_retention=df.groupby(['experimentVariant','version'], as_index=False)\\\n",
    "               .agg({'purchase': lambda x: x.sum()/x.count()})\\\n",
    "               .rename(columns={'purchase':'conversion'})"
   ]
  },
  {
   "cell_type": "code",
   "execution_count": 106,
   "id": "ef108173",
   "metadata": {},
   "outputs": [
    {
     "data": {
      "text/html": [
       "<div>\n",
       "<style scoped>\n",
       "    .dataframe tbody tr th:only-of-type {\n",
       "        vertical-align: middle;\n",
       "    }\n",
       "\n",
       "    .dataframe tbody tr th {\n",
       "        vertical-align: top;\n",
       "    }\n",
       "\n",
       "    .dataframe thead th {\n",
       "        text-align: right;\n",
       "    }\n",
       "</style>\n",
       "<table border=\"1\" class=\"dataframe\">\n",
       "  <thead>\n",
       "    <tr style=\"text-align: right;\">\n",
       "      <th></th>\n",
       "      <th>experimentVariant</th>\n",
       "      <th>version</th>\n",
       "      <th>conversion</th>\n",
       "    </tr>\n",
       "  </thead>\n",
       "  <tbody>\n",
       "    <tr>\n",
       "      <th>0</th>\n",
       "      <td>0</td>\n",
       "      <td>v2.8.0</td>\n",
       "      <td>0.000993</td>\n",
       "    </tr>\n",
       "    <tr>\n",
       "      <th>1</th>\n",
       "      <td>0</td>\n",
       "      <td>v2.9.0</td>\n",
       "      <td>0.074658</td>\n",
       "    </tr>\n",
       "    <tr>\n",
       "      <th>2</th>\n",
       "      <td>0</td>\n",
       "      <td>v3.7.4.0</td>\n",
       "      <td>0.059943</td>\n",
       "    </tr>\n",
       "    <tr>\n",
       "      <th>3</th>\n",
       "      <td>0</td>\n",
       "      <td>v3.8.0.0</td>\n",
       "      <td>0.057604</td>\n",
       "    </tr>\n",
       "    <tr>\n",
       "      <th>4</th>\n",
       "      <td>1</td>\n",
       "      <td>v2.8.0</td>\n",
       "      <td>0.045606</td>\n",
       "    </tr>\n",
       "    <tr>\n",
       "      <th>5</th>\n",
       "      <td>1</td>\n",
       "      <td>v2.9.0</td>\n",
       "      <td>0.071304</td>\n",
       "    </tr>\n",
       "    <tr>\n",
       "      <th>6</th>\n",
       "      <td>1</td>\n",
       "      <td>v3.7.4.0</td>\n",
       "      <td>0.063018</td>\n",
       "    </tr>\n",
       "    <tr>\n",
       "      <th>7</th>\n",
       "      <td>1</td>\n",
       "      <td>v3.8.0.0</td>\n",
       "      <td>0.062848</td>\n",
       "    </tr>\n",
       "  </tbody>\n",
       "</table>\n",
       "</div>"
      ],
      "text/plain": [
       "   experimentVariant   version  conversion\n",
       "0                  0    v2.8.0    0.000993\n",
       "1                  0    v2.9.0    0.074658\n",
       "2                  0  v3.7.4.0    0.059943\n",
       "3                  0  v3.8.0.0    0.057604\n",
       "4                  1    v2.8.0    0.045606\n",
       "5                  1    v2.9.0    0.071304\n",
       "6                  1  v3.7.4.0    0.063018\n",
       "7                  1  v3.8.0.0    0.062848"
      ]
     },
     "execution_count": 106,
     "metadata": {},
     "output_type": "execute_result"
    }
   ],
   "source": [
    "df_retention"
   ]
  },
  {
   "cell_type": "code",
   "execution_count": null,
   "id": "fb38c6d6",
   "metadata": {},
   "outputs": [],
   "source": []
  },
  {
   "cell_type": "code",
   "execution_count": 51,
   "id": "f57bb059",
   "metadata": {},
   "outputs": [
    {
     "data": {
      "text/plain": [
       "0.03868743012801335"
      ]
     },
     "execution_count": 51,
     "metadata": {},
     "output_type": "execute_result"
    }
   ],
   "source": [
    "df.purchase.sum()/df.purchase.count()"
   ]
  },
  {
   "cell_type": "code",
   "execution_count": 74,
   "id": "b0d2791b",
   "metadata": {},
   "outputs": [],
   "source": [
    "test=df.purchase.sample(n_s, replace = False).values"
   ]
  },
  {
   "cell_type": "code",
   "execution_count": 93,
   "id": "f6ed8c38",
   "metadata": {},
   "outputs": [
    {
     "data": {
      "text/plain": [
       "Ttest_indResult(statistic=-5.459903683252622, pvalue=5.6250725549318006e-08)"
      ]
     },
     "execution_count": 93,
     "metadata": {},
     "output_type": "execute_result"
    }
   ],
   "source": [
    "s1 = df.query('version!=\"v2.9.0\" & experimentVariant==0').purchase.sample(n_s, replace = False).values\n",
    "s2 = df.query('version!=\"v2.9.0\" &experimentVariant==1').purchase.sample(n_s, replace = False).values\n",
    "stats.ttest_ind(s1, s2, equal_var = False)"
   ]
  },
  {
   "cell_type": "code",
   "execution_count": 75,
   "id": "6f886d49",
   "metadata": {},
   "outputs": [
    {
     "data": {
      "text/plain": [
       "0.04"
      ]
     },
     "execution_count": 75,
     "metadata": {},
     "output_type": "execute_result"
    }
   ],
   "source": [
    "test.sum()/len(test)"
   ]
  },
  {
   "cell_type": "code",
   "execution_count": 77,
   "id": "6ac1471a",
   "metadata": {},
   "outputs": [
    {
     "data": {
      "application/vnd.jupyter.widget-view+json": {
       "model_id": "c6e02f16affd4cb587decacc8d3291e9",
       "version_major": 2,
       "version_minor": 0
      },
      "text/plain": [
       "  0%|          | 0/1000 [00:00<?, ?it/s]"
      ]
     },
     "metadata": {},
     "output_type": "display_data"
    },
    {
     "data": {
      "image/png": "[encoded data removed]",
      "text/plain": [
       "<Figure size 432x288 with 1 Axes>"
      ]
     },
     "metadata": {},
     "output_type": "display_data"
    },
    {
     "data": {
      "text/plain": [
       "0.999"
      ]
     },
     "execution_count": 77,
     "metadata": {},
     "output_type": "execute_result"
    }
   ],
   "source": [
    "simulations = 1000\n",
    "n_s = 1000\n",
    "res = []\n",
    "\n",
    "# Запуск симуляций A/A теста\n",
    "for i in tqdm(range(simulations)):\n",
    "    s1 = df.query('version!=\"v2.9.0\" & experimentVariant==0').purchase.sample(n_s, replace = False).values\n",
    "    s2 = df.query('version!=\"v2.9.0\" &experimentVariant==1').purchase.sample(n_s, replace = False).values\n",
    "    res.append(stats.ttest_ind(s1, s2, equal_var = False)[1]) # сохраняем pvalue\n",
    "\n",
    "plt.hist(res, bins = 50)\n",
    "plt.style.use('ggplot')\n",
    "plt.xlabel('pvalues')\n",
    "plt.ylabel('frequency')\n",
    "plt.title(\"Histogram of ttest A/A simulations \")\n",
    "plt.show()\n",
    "\n",
    "# Проверяем, что количество ложноположительных случаев не превышает альфа\n",
    "sum(np.array(res) <0.05) / simulations"
   ]
  },
  {
   "cell_type": "code",
   "execution_count": 92,
   "id": "9830f3eb",
   "metadata": {
    "scrolled": false
   },
   "outputs": [
    {
     "data": {
      "text/plain": [
       "<seaborn.axisgrid.FacetGrid at 0x1f9f9201c70>"
      ]
     },
     "execution_count": 92,
     "metadata": {},
     "output_type": "execute_result"
    },
    {
     "data": {
      "image/png": "[encoded data removed]",
      "text/plain": [
       "<Figure size 460.875x360 with 1 Axes>"
      ]
     },
     "metadata": {},
     "output_type": "display_data"
    }
   ],
   "source": [
    "sns.displot(df.query('version==\"v2.9.0\"'), x='purchase', hue='experimentVariant')"
   ]
  },
  {
   "cell_type": "code",
   "execution_count": 66,
   "id": "8a947792",
   "metadata": {},
   "outputs": [
    {
     "data": {
      "text/plain": [
       "array([[<AxesSubplot:title={'center':'experimentVariant'}>,\n",
       "        <AxesSubplot:title={'center':'purchase'}>]], dtype=object)"
      ]
     },
     "execution_count": 66,
     "metadata": {},
     "output_type": "execute_result"
    },
    {
     "data": {
      "image/png": "[encoded data removed]",
      "text/plain": [
       "<Figure size 432x288 with 2 Axes>"
      ]
     },
     "metadata": {},
     "output_type": "display_data"
    }
   ],
   "source": [
    "df.hist()"
   ]
  },
  {
   "cell_type": "code",
   "execution_count": 126,
   "id": "0514d556",
   "metadata": {},
   "outputs": [
    {
     "name": "stdout",
     "output_type": "stream",
     "text": [
      "p-value for v2.8.0:  0.0\n",
      "p-value for v2.9.0:  0.3443431331058745\n",
      "p-value for v3.7.4.0:  0.5856223445462282\n",
      "p-value for v3.8.0.0:  0.3231961609144097\n"
     ]
    }
   ],
   "source": [
    "n = min([df.query('version==\"v2.8.0\" & experimentVariant==0').purchase.count(),\n",
    "          df.query('version==\"v2.8.0\" & experimentVariant==1').purchase.count()])\n",
    "s1 = df.query('version==\"v2.8.0\" & experimentVariant==0').purchase.sample(n, replace = False).values\n",
    "s2 = df.query('version==\"v2.8.0\" &experimentVariant==1').purchase.sample(n, replace = False).values\n",
    "print('p-value for v2.8.0: ',stats.ttest_ind(s1, s2, equal_var = False)[1])\n",
    "\n",
    "n = min([df.query('version==\"v2.9.0\" & experimentVariant==0').purchase.count(),\n",
    "          df.query('version==\"v2.9.0\" & experimentVariant==1').purchase.count()])\n",
    "s1 = df.query('version==\"v2.9.0\" & experimentVariant==0').purchase.sample(n, replace = False).values\n",
    "s2 = df.query('version==\"v2.9.0\" &experimentVariant==1').purchase.sample(n, replace = False).values\n",
    "print('p-value for v2.9.0: ',stats.ttest_ind(s1, s2, equal_var = False)[1])\n",
    "\n",
    "n = min([df.query('version==\"v3.7.4.0\" & experimentVariant==0').purchase.count(),\n",
    "          df.query('version==\"v3.7.4.0\" & experimentVariant==1').purchase.count()])\n",
    "s1 = df.query('version==\"v3.7.4.0\" & experimentVariant==0').purchase.sample(n, replace = False).values\n",
    "s2 = df.query('version==\"v3.7.4.0\" &experimentVariant==1').purchase.sample(n, replace = False).values\n",
    "print('p-value for v3.7.4.0: ',stats.ttest_ind(s1, s2, equal_var = False)[1])\n",
    "\n",
    "n = min([df.query('version==\"v3.8.0.0\" & experimentVariant==0').purchase.count(),\n",
    "          df.query('version==\"v3.8.0.0\" & experimentVariant==1').purchase.count()])\n",
    "s1 = df.query('version==\"v3.8.0.0\" & experimentVariant==0').purchase.sample(n, replace = False).values\n",
    "s2 = df.query('version==\"v3.8.0.0\" &experimentVariant==1').purchase.sample(n, replace = False).values\n",
    "print('p-value for v3.8.0.0: ',stats.ttest_ind(s1, s2, equal_var = False)[1])"
   ]
  },
  {
   "cell_type": "code",
   "execution_count": 125,
   "id": "a793cfea",
   "metadata": {},
   "outputs": [
    {
     "name": "stdout",
     "output_type": "stream",
     "text": [
      "p-value for v2.9.0:  0.2954377847725959\n"
     ]
    }
   ],
   "source": [
    "n = min([df.query('version==\"v2.9.0\" & experimentVariant==0').purchase.count(),\n",
    "          df.query('version==\"v2.9.0\" & experimentVariant==1').purchase.count()])\n",
    "s1 = df.query('version==\"v2.9.0\" & experimentVariant==0').purchase.sample(n, replace = False).values\n",
    "s2 = df.query('version==\"v2.9.0\" &experimentVariant==1').purchase.sample(n, replace = False).values\n",
    "print('p-value for v2.9.0: ',stats.ttest_ind(s1, s2, equal_var = False)[1])"
   ]
  },
  {
   "cell_type": "code",
   "execution_count": 118,
   "id": "e253b5de",
   "metadata": {},
   "outputs": [
    {
     "data": {
      "text/plain": [
       "21819"
      ]
     },
     "execution_count": 118,
     "metadata": {},
     "output_type": "execute_result"
    }
   ],
   "source": [
    "n_s"
   ]
  },
  {
   "cell_type": "code",
   "execution_count": 121,
   "id": "8c068dec",
   "metadata": {},
   "outputs": [
    {
     "data": {
      "text/plain": [
       "0.8787281602079482"
      ]
     },
     "execution_count": 121,
     "metadata": {},
     "output_type": "execute_result"
    }
   ],
   "source": [
    "s1 = df.query('version!=\"v2.8.0\" & experimentVariant==0').purchase.sample(n_s, replace = False).values\n",
    "s2 = df.query('version!=\"v2.8.0\" &experimentVariant==1').purchase.sample(n_s, replace = False).values\n",
    "stats.ttest_ind(s1, s2, equal_var = False)[1]"
   ]
  },
  {
   "cell_type": "code",
   "execution_count": 110,
   "id": "92b25a6e",
   "metadata": {},
   "outputs": [
    {
     "data": {
      "text/plain": [
       "21819"
      ]
     },
     "execution_count": 110,
     "metadata": {},
     "output_type": "execute_result"
    }
   ],
   "source": [
    "df.query('version!=\"v2.8.0\" & experimentVariant==0').purchase.count()"
   ]
  },
  {
   "cell_type": "code",
   "execution_count": 111,
   "id": "1802480b",
   "metadata": {},
   "outputs": [
    {
     "data": {
      "text/plain": [
       "22364"
      ]
     },
     "execution_count": 111,
     "metadata": {},
     "output_type": "execute_result"
    }
   ],
   "source": [
    "df.query('version!=\"v2.8.0\" & experimentVariant==1').purchase.count()"
   ]
  },
  {
   "cell_type": "code",
   "execution_count": null,
   "id": "09a170a9",
   "metadata": {},
   "outputs": [],
   "source": []
  }
 ],
 "metadata": {
  "kernelspec": {
   "display_name": "Python 3 (ipykernel)",
   "language": "python",
   "name": "python3"
  },
  "language_info": {
   "codemirror_mode": {
    "name": "ipython",
    "version": 3
   },
   "file_extension": ".py",
   "mimetype": "text/x-python",
   "name": "python",
   "nbconvert_exporter": "python",
   "pygments_lexer": "ipython3",
   "version": "3.9.7"
  }
 },
 "nbformat": 4,
 "nbformat_minor": 5
}
